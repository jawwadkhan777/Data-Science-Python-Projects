{
  "nbformat": 4,
  "nbformat_minor": 0,
  "metadata": {
    "colab": {
      "provenance": [],
      "collapsed_sections": [
        "t404wJWqDmk8"
      ]
    },
    "kernelspec": {
      "name": "python3",
      "display_name": "Python 3"
    },
    "language_info": {
      "name": "python"
    }
  },
  "cells": [
    {
      "cell_type": "markdown",
      "source": [
        "<h1><b>First Question</b></h1><br>\n",
        "<p><b>Instructions:</b>\n",
        "This is a difficult challenge!\n",
        "You are going to write a program that tests the compatibility\n",
        "between two people.To work out the love score between two people:<br>\n",
        "1. Take both people's names and check for the number of times\n",
        "the letters in the word TRUE occurs.<br>\n",
        "2. Then check for the number of times the letters in the word\n",
        "LOVE occurs.<br>\n",
        "3. Then combine these numbers to make a 2 digit number.\n",
        "For Love Scores less than 10 or greater than 90, the message\n",
        "should be:\n",
        "\"Your score is *x*, you go together like coke and mentos.\"\n",
        "For Love Scores between 40 and 50, the message should be:\n",
        "\"Your score is *y*, you are alright together.\"\n",
        "Otherwise, the message will just be their score. e.g.:\n",
        "\"Your score is *z*.\"</b>\n"
      ],
      "metadata": {
        "id": "t404wJWqDmk8"
      }
    },
    {
      "cell_type": "code",
      "execution_count": 1,
      "metadata": {
        "colab": {
          "base_uri": "https://localhost:8080/"
        },
        "id": "hqmFZe2V8SrE",
        "outputId": "0918a23b-5375-4db8-e15e-0f84363b77c9"
      },
      "outputs": [
        {
          "output_type": "stream",
          "name": "stdout",
          "text": [
            "Enter first person name: Angela Yu\n",
            "Enter second person name: Jack Bauer\n",
            "Your score is 53.\n"
          ]
        }
      ],
      "source": [
        "first_name = input(\"Enter first person name: \").lower()\n",
        "second_name = input(\"Enter second person name: \").lower()\n",
        "merge_name = first_name + second_name\n",
        "count1 = 0\n",
        "for i in \"true\":\n",
        "  for j in merge_name:\n",
        "    if i==j:\n",
        "      count1 += 1\n",
        "\n",
        "count2 = 0\n",
        "for i in \"love\":\n",
        "  for j in merge_name:\n",
        "    if i==j:\n",
        "      count2 += 1\n",
        "\n",
        "combine_numbers = str(count1) + str(count2)\n",
        "# print(combine_numbers, type(combine_numbers))\n",
        "\n",
        "if int(combine_numbers)<10 or int(combine_numbers)>90:\n",
        "  print(f\"Your score is {combine_numbers}, you go together like coke and mentos.\")\n",
        "elif 40<(int(combine_numbers))<50:\n",
        "  print(f\"Your score is {combine_numbers}, you are alright together.\")\n",
        "else:\n",
        "  print(f\"Your score is {combine_numbers}.\")"
      ]
    },
    {
      "cell_type": "markdown",
      "source": [
        "<h1><b>Second Question</b></h1>\n",
        "<p><b>Instructions:</b>\n",
        "You are going to write a virtual coin toss program. It will randomly\n",
        "tell the user \"Heads\" or \"Tails\".\n",
        "Important, the first letter should be capitalised and spelt exactly like\n",
        "in the example e.g. \"Heads\", not \"heads\".\n",
        "There are many ways of doing this. But to practice what we learnt in\n",
        "the last lesson, you should generate a random number, either 0 or 1. Then use that number to print out \"Heads\" or \"Tails\".e.g. 1 means Heads 0 means Tails<br>\n",
        "1. Import random function<br>\n",
        "2. Compare generated number by using if else statement</p>"
      ],
      "metadata": {
        "id": "PGihzsWgMu52"
      }
    },
    {
      "cell_type": "code",
      "source": [
        "import random\n",
        "random_number = random.randint(0,1)\n",
        "\n",
        "if random_number==1:\n",
        "  print(\"Heads\")\n",
        "else:\n",
        "  print(\"Tails\")"
      ],
      "metadata": {
        "colab": {
          "base_uri": "https://localhost:8080/"
        },
        "id": "-WQ-n7_uNccc",
        "outputId": "24345720-1e62-456e-ee47-9273297b7161"
      },
      "execution_count": 2,
      "outputs": [
        {
          "output_type": "stream",
          "name": "stdout",
          "text": [
            "Heads\n"
          ]
        }
      ]
    },
    {
      "cell_type": "markdown",
      "source": [
        "<h1><b>Third Question</b></h1>\n",
        "<p><b>Instructions:</b>\n",
        "print(\"Welcome to Treasure Island.\")\n",
        "print(\"Your mission is to find the treasure.\")<br>\n",
        "choice1 = input() #'You're at a cross road. Where do you want to\n",
        "go? Type \"left\" or \"right\"'<br>\n",
        "choice2 = input() #'You've come to a lake. There is an island in the\n",
        "middle of the lake. Type \"wait\" to wait for a boat. Type \"swim\" to\n",
        "swim across.'<br>\n",
        "Complete this treasure game by using the flow chart<p>"
      ],
      "metadata": {
        "id": "mWAXyHbbQCXy"
      }
    },
    {
      "cell_type": "code",
      "source": [
        "print(\"Welcome to Treasure Island!!!\\nYour mission is to find the treasure.\")\n",
        "choice1 = input(\"You're at a cross road. Where do you want to go? Type left or right: \").lower()\n",
        "if choice1!=\"left\":\n",
        "  print(\"Fall into a hole, Game Over!!!\")\n",
        "else:\n",
        "  choice2 = input(\"You've come to a lake. There is an island in the middle of the lake. Type wait to wait for a boat. Type swim to swim across: \").lower()\n",
        "  if choice2!=\"wait\":\n",
        "    print(\"Attaked by trout, Game Over!!!\")\n",
        "  else:\n",
        "    choice3 = input(\"You've to enter the boat, from which color of door? Type red, blue, yellow or anything else: \").lower()\n",
        "    if choice3==\"red\":\n",
        "      print(\"Burned by fire, Game Over!!!\")\n",
        "    elif choice3==\"blue\":\n",
        "      print(\"Eaten by beasts, Game Over!!!\")\n",
        "    elif choice3!=\"yellow\":\n",
        "      print(\"No door available of this color, Game Over!!!\")\n",
        "    else:\n",
        "      print(\"Congratulation, You Win!!!\")"
      ],
      "metadata": {
        "colab": {
          "base_uri": "https://localhost:8080/"
        },
        "id": "UKSgfLNxTcsi",
        "outputId": "9dd4764d-ff8e-41df-fe1d-ab1a9fceb46e"
      },
      "execution_count": 3,
      "outputs": [
        {
          "output_type": "stream",
          "name": "stdout",
          "text": [
            "Welcome to Treasure Island!!!\n",
            "Your mission is to find the treasure.\n",
            "You're at a cross road. Where do you want to go? Type left or right: left\n",
            "You've come to a lake. There is an island in the middle of the lake. Type wait to wait for a boat. Type swim to swim across: wait\n",
            "You've to enter the boat, from which color of door? Type red, blue, yellow or anything else: yellow\n",
            "Congratulation, You Win!!!\n"
          ]
        }
      ]
    }
  ]
}